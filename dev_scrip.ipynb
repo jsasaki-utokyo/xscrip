{
 "cells": [
  {
   "cell_type": "markdown",
   "metadata": {},
   "source": [
    "# COAWST SCRIP netcdf check\n",
    "**Author: Jun Sasaki, Coded on October 22, 2020, Updated on October 22, 2020**<br>\n",
    "A sample code for manipulating `coawst/Projects/Sandy/scrip_sandy_static.nc`\n",
    "- Netcdf group cannot be handled directly by xarray; each group name should be specified.\n",
    "- Group name can be accessed using `ncdump -c ncfile.nc`\n",
    "\n",
    "- See [SCRIP](https://github.com/SCRIP-Project/SCRIP) and [xarray.open_dataset](http://xarray.pydata.org/en/stable/generated/xarray.open_dataset.html)"
   ]
  },
  {
   "cell_type": "code",
   "execution_count": null,
   "metadata": {},
   "outputs": [],
   "source": [
    "import xarray as xr"
   ]
  },
  {
   "cell_type": "markdown",
   "metadata": {},
   "source": [
    "## Specify a group name and netcdf files to be compared."
   ]
  },
  {
   "cell_type": "code",
   "execution_count": null,
   "metadata": {},
   "outputs": [],
   "source": [
    "fpath1 = \"../../Projects/Sandy/scrip_sandy_static.nc\"\n",
    "fpath2 = \"../../Lib/SCRIP_COAWST/scrip_sandy_static.nc\"\n",
    "#!ncdump -h $fpath2"
   ]
  },
  {
   "cell_type": "code",
   "execution_count": null,
   "metadata": {},
   "outputs": [],
   "source": [
    "group = \"ocn1_to_atm1_weights.nc\"\n",
    "with xr.open_dataset(fpath1, group=group) as ds1:\n",
    "    pass\n",
    "with xr.open_dataset(fpath2, group=group) as ds2:\n",
    "    pass"
   ]
  },
  {
   "cell_type": "code",
   "execution_count": null,
   "metadata": {},
   "outputs": [],
   "source": [
    "ds1"
   ]
  },
  {
   "cell_type": "code",
   "execution_count": null,
   "metadata": {},
   "outputs": [],
   "source": [
    "ds2"
   ]
  },
  {
   "cell_type": "code",
   "execution_count": null,
   "metadata": {},
   "outputs": [],
   "source": []
  }
 ],
 "metadata": {
  "kernelspec": {
   "display_name": "Python 3",
   "language": "python",
   "name": "python3"
  },
  "language_info": {
   "codemirror_mode": {
    "name": "ipython",
    "version": 3
   },
   "file_extension": ".py",
   "mimetype": "text/x-python",
   "name": "python",
   "nbconvert_exporter": "python",
   "pygments_lexer": "ipython3",
   "version": "3.7.8"
  }
 },
 "nbformat": 4,
 "nbformat_minor": 4
}
